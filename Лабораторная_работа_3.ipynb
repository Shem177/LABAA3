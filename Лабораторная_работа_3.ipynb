{
  "cells": [
    {
      "cell_type": "markdown",
      "metadata": {
        "id": "view-in-github",
        "colab_type": "text"
      },
      "source": [
        "<a href=\"https://colab.research.google.com/github/Shem177/LABAA3/blob/main/%D0%9B%D0%B0%D0%B1%D0%BE%D1%80%D0%B0%D1%82%D0%BE%D1%80%D0%BD%D0%B0%D1%8F_%D1%80%D0%B0%D0%B1%D0%BE%D1%82%D0%B0_3.ipynb\" target=\"_parent\"><img src=\"https://colab.research.google.com/assets/colab-badge.svg\" alt=\"Open In Colab\"/></a>"
      ]
    },
    {
      "cell_type": "code",
      "execution_count": null,
      "metadata": {
        "colab": {
          "base_uri": "https://localhost:8080/"
        },
        "id": "0UJ0zE-ovVl8",
        "outputId": "294a5a6b-0f42-4d81-aa8b-a59db26913e0"
      },
      "outputs": [
        {
          "name": "stdout",
          "output_type": "stream",
          "text": [
            "                   ТЭС               Владелец                 Регион  \\\n",
            "0    Сургутская ГРЭС-2            Э.Он Россия    Ханты-Мансийский АО   \n",
            "1      Рефтинская ГРЭС            Энел Россия   Свердловская область   \n",
            "2     Костромская ГРЭС              Интер РАО    Костромская область   \n",
            "3    Сургутская ГРЭС-1  Газпром энергохолдинг    Ханты-Мансийский АО   \n",
            "4       Рязанская ГРЭС  Газпром энергохолдинг      Рязанская область   \n",
            "5       Киришская ГРЭС  Газпром энергохолдинг  Ленинградская область   \n",
            "6     Конаковская ГРЭС            Энел Россия       Тверская область   \n",
            "7     Ириклинская ГРЭС              Интер РАО   Оренбургская область   \n",
            "8        Пермская ГРЭС              Интер РАО          Пермский край   \n",
            "9  Ставропольская ГРЭС  Газпром энергохолдинг    Ставропольский край   \n",
            "\n",
            "   Мощность (ГВт)  \n",
            "0             5.6  \n",
            "1             3.8  \n",
            "2             3.6  \n",
            "3             3.3  \n",
            "4             3.3  \n",
            "5             2.6  \n",
            "6             2.5  \n",
            "7             2.4  \n",
            "8             2.4  \n",
            "9             2.4  \n"
          ]
        }
      ],
      "source": [
        "#1 Подключение библиотек\n",
        "import pandas as pd\n",
        "import numpy as np\n",
        "# 2. Создание таблицы \n",
        "df_init = pd.DataFrame({\n",
        "    'ТЭС': ['Сургутская ГРЭС-2', 'Рефтинская ГРЭС', 'Костромская ГРЭС', 'Сургутская ГРЭС-1', 'Рязанская ГРЭС', 'Киришская ГРЭС', 'Конаковская ГРЭС', 'Ириклинская ГРЭС', 'Пермская ГРЭС', 'Ставропольская ГРЭС'],\n",
        "    'Владелец': ['Э.Он Россия', 'Энел Россия', 'Интер РАО', 'Газпром энергохолдинг', 'Газпром энергохолдинг', 'Газпром энергохолдинг', 'Энел Россия', 'Интер РАО', 'Интер РАО', 'Газпром энергохолдинг'],\n",
        "    'Регион': ['Ханты-Мансийский АО', 'Свердловская область', 'Костромская область', 'Ханты-Мансийский АО', 'Рязанская область', 'Ленинградская область', 'Тверская область', 'Оренбургская область', 'Пермский край', 'Ставропольский край'],\n",
        "    'Мощность (ГВт)': [5.6, 3.8, 3.6, 3.3, 3.3, 2.6, 2.5, 2.4, 2.4, 2.4]\n",
        "})\n",
        "\n",
        "df_init.head()\n",
        "print(df_init)"
      ]
    },
    {
      "cell_type": "code",
      "execution_count": null,
      "metadata": {
        "colab": {
          "base_uri": "https://localhost:8080/"
        },
        "id": "KDRr8FUDm4_v",
        "outputId": "fae91a0f-37aa-4a56-f233-bb42cb08aa3a"
      },
      "outputs": [
        {
          "name": "stdout",
          "output_type": "stream",
          "text": [
            "                   ТЭС               Владелец                 Регион  \\\n",
            "7     Ириклинская ГРЭС              Интер РАО   Оренбургская область   \n",
            "8        Пермская ГРЭС              Интер РАО          Пермский край   \n",
            "9  Ставропольская ГРЭС  Газпром энергохолдинг    Ставропольский край   \n",
            "6     Конаковская ГРЭС            Энел Россия       Тверская область   \n",
            "5       Киришская ГРЭС  Газпром энергохолдинг  Ленинградская область   \n",
            "3    Сургутская ГРЭС-1  Газпром энергохолдинг    Ханты-Мансийский АО   \n",
            "4       Рязанская ГРЭС  Газпром энергохолдинг      Рязанская область   \n",
            "2     Костромская ГРЭС              Интер РАО    Костромская область   \n",
            "1      Рефтинская ГРЭС            Энел Россия   Свердловская область   \n",
            "0    Сургутская ГРЭС-2            Э.Он Россия    Ханты-Мансийский АО   \n",
            "\n",
            "   Мощность (ГВт)  \n",
            "7             2.4  \n",
            "8             2.4  \n",
            "9             2.4  \n",
            "6             2.5  \n",
            "5             2.6  \n",
            "3             3.3  \n",
            "4             3.3  \n",
            "2             3.6  \n",
            "1             3.8  \n",
            "0             5.6  \n",
            "\n"
          ]
        }
      ],
      "source": [
        "#3. Сортировка по столбцу мощности по возрастанию.\n",
        "df_exted = df_init.sort_values(['Мощность (ГВт)'])\n",
        "print(df_exted)\n",
        "print()"
      ]
    },
    {
      "cell_type": "code",
      "execution_count": null,
      "metadata": {
        "colab": {
          "base_uri": "https://localhost:8080/"
        },
        "id": "1uIAjz9jmHG6",
        "outputId": "e7f93fec-9811-4e21-9bc3-0e83541f14f4"
      },
      "outputs": [
        {
          "name": "stdout",
          "output_type": "stream",
          "text": [
            "                   ТЭС               Владелец                 Регион  \\\n",
            "7     Ириклинская ГРЭС              Интер РАО   Оренбургская область   \n",
            "8        Пермская ГРЭС              Интер РАО          Пермский край   \n",
            "9  Ставропольская ГРЭС  Газпром энергохолдинг    Ставропольский край   \n",
            "6     Конаковская ГРЭС            Энел Россия       Тверская область   \n",
            "5       Киришская ГРЭС  Газпром энергохолдинг  Ленинградская область   \n",
            "3    Сургутская ГРЭС-1  Газпром энергохолдинг    Ханты-Мансийский АО   \n",
            "4       Рязанская ГРЭС  Газпром энергохолдинг      Рязанская область   \n",
            "2     Костромская ГРЭС              Интер РАО    Костромская область   \n",
            "1      Рефтинская ГРЭС            Энел Россия   Свердловская область   \n",
            "0    Сургутская ГРЭС-2            Э.Он Россия    Ханты-Мансийский АО   \n",
            "\n",
            "   Мощность (ГВт)  Выработка за сутки  \n",
            "7             2.4                57.6  \n",
            "8             2.4                57.6  \n",
            "9             2.4                57.6  \n",
            "6             2.5                60.0  \n",
            "5             2.6                62.4  \n",
            "3             3.3                79.2  \n",
            "4             3.3                79.2  \n",
            "2             3.6                86.4  \n",
            "1             3.8                91.2  \n",
            "0             5.6               134.4  \n"
          ]
        }
      ],
      "source": [
        "#4. Расчет выработки за сутки и добавление в качестве столбца.\n",
        "df_exted['Выработка за сутки'] = df_exted['Мощность (ГВт)']*24 \n",
        "print(df_exted)\n"
      ]
    },
    {
      "cell_type": "code",
      "execution_count": null,
      "metadata": {
        "colab": {
          "base_uri": "https://localhost:8080/"
        },
        "id": "Py7STI9bn09m",
        "outputId": "5f1da5e1-2503-4f88-a559-a73d79ed686c"
      },
      "outputs": [
        {
          "name": "stdout",
          "output_type": "stream",
          "text": [
            "                 ТЭС               Владелец                Регион  \\\n",
            "3  Сургутская ГРЭС-1  Газпром энергохолдинг   Ханты-Мансийский АО   \n",
            "4     Рязанская ГРЭС  Газпром энергохолдинг     Рязанская область   \n",
            "2   Костромская ГРЭС              Интер РАО   Костромская область   \n",
            "1    Рефтинская ГРЭС            Энел Россия  Свердловская область   \n",
            "0  Сургутская ГРЭС-2            Э.Он Россия   Ханты-Мансийский АО   \n",
            "\n",
            "   Мощность (ГВт)  Выработка за сутки  \n",
            "3             3.3                79.2  \n",
            "4             3.3                79.2  \n",
            "2             3.6                86.4  \n",
            "1             3.8                91.2  \n",
            "0             5.6               134.4  \n"
          ]
        }
      ],
      "source": [
        "#5. Сделали выборку фрагмента таблицы по условию.\n",
        "print(df_exted[df_exted['Мощность (ГВт)'] > 2.6])"
      ]
    },
    {
      "cell_type": "code",
      "execution_count": null,
      "metadata": {
        "colab": {
          "base_uri": "https://localhost:8080/"
        },
        "id": "gmcb0rDqpT9n",
        "outputId": "02db4daa-2594-4192-d288-6a80d28ad87f"
      },
      "outputs": [
        {
          "name": "stdout",
          "output_type": "stream",
          "text": [
            "                 ТЭС  Мощность (ГВт)\n",
            "0  Сургутская ГРЭС-2             5.6\n",
            "1    Рефтинская ГРЭС             3.8\n",
            "2   Костромская ГРЭС             3.6\n",
            "3  Сургутская ГРЭС-1             3.3\n",
            "4     Рязанская ГРЭС             3.3\n",
            "\n"
          ]
        }
      ],
      "source": [
        "#6. Сделали выборку фрагмента таблицы по номерам строк и столбцов.\n",
        "print(df_init.iloc[: 5, : : 3])\n",
        "print()\n"
      ]
    },
    {
      "cell_type": "code",
      "execution_count": null,
      "metadata": {
        "colab": {
          "base_uri": "https://localhost:8080/"
        },
        "id": "_fowCRqoqNr0",
        "outputId": "0983bed3-5c6e-4da4-9e4c-d4e77f53a21d"
      },
      "outputs": [
        {
          "name": "stdout",
          "output_type": "stream",
          "text": [
            "Владелец\n",
            "Газпром энергохолдинг    11.6\n",
            "Интер РАО                 8.4\n",
            "Э.Он Россия               5.6\n",
            "Энел Россия               6.3\n",
            "Name: Мощность (ГВт), dtype: float64\n",
            "\n"
          ]
        }
      ],
      "source": [
        "#7. Расчет статистических показателей по сгруппированным данным (сумма мощностей электростанций у разных компаний).\n",
        "print(df_init.groupby(['Владелец'])['Мощность (ГВт)'].sum())\n",
        "print()"
      ]
    },
    {
      "cell_type": "code",
      "execution_count": null,
      "metadata": {
        "colab": {
          "base_uri": "https://localhost:8080/"
        },
        "id": "Dpmk7b3pqbgh",
        "outputId": "4c5961c8-dd1d-452c-be95-ffab5d595cfe"
      },
      "outputs": [
        {
          "name": "stdout",
          "output_type": "stream",
          "text": [
            "Владелец\n",
            "Газпром энергохолдинг    3.3\n",
            "Интер РАО                3.6\n",
            "Э.Он Россия              5.6\n",
            "Энел Россия              3.8\n",
            "Name: Мощность (ГВт), dtype: float64\n",
            "\n"
          ]
        }
      ],
      "source": [
        "#8. Вывод максимальных мощностей у разных компаний.\n",
        "print(df_init.groupby(['Владелец'])['Мощность (ГВт)'].max())\n",
        "print()"
      ]
    },
    {
      "cell_type": "code",
      "execution_count": null,
      "metadata": {
        "colab": {
          "base_uri": "https://localhost:8080/",
          "height": 282
        },
        "id": "EGfyCq5QrbmY",
        "outputId": "6faffebb-6f58-4490-de9f-2411d25000c5"
      },
      "outputs": [
        {
          "name": "stdout",
          "output_type": "stream",
          "text": [
            "\n"
          ]
        },
        {
          "data": {
            "image/png": "[encoded data removed]",
            "text/plain": [
              "<Figure size 432x288 with 1 Axes>"
            ]
          },
          "metadata": {},
          "output_type": "display_data"
        }
      ],
      "source": [
        "#9. Построили гистограмму.\n",
        "df_init.groupby(['Владелец'])['Мощность (ГВт)'].sum().plot(kind = 'barh')\n",
        "print()\n"
      ]
    },
    {
      "cell_type": "code",
      "execution_count": null,
      "metadata": {
        "colab": {
          "base_uri": "https://localhost:8080/",
          "height": 265
        },
        "id": "_WWeWpTtsk8u",
        "outputId": "a30bf52a-fb24-4bd3-9dfa-035618d6d67d"
      },
      "outputs": [
        {
          "name": "stdout",
          "output_type": "stream",
          "text": [
            "\n"
          ]
        },
        {
          "data": {
            "image/png": "[encoded data removed]",
            "text/plain": [
              "<Figure size 432x288 with 1 Axes>"
            ]
          },
          "metadata": {},
          "output_type": "display_data"
        }
      ],
      "source": [
        "#10. Построили круговую диаграмму.\n",
        "df_init.groupby(['Владелец'])['Мощность (ГВт)'].sum().plot(kind = 'pie')\n",
        "print()\n"
      ]
    },
    {
      "cell_type": "code",
      "execution_count": null,
      "metadata": {
        "colab": {
          "base_uri": "https://localhost:8080/",
          "height": 394
        },
        "id": "Yi4VOYlhv8RH",
        "outputId": "0c5da706-cf94-4a26-a155-31f246ef540f"
      },
      "outputs": [
        {
          "data": {
            "text/html": [
              "\n",
              "  <div id=\"df-fafe5cf6-9ab7-4110-b3d3-fac22ac5c533\">\n",
              "    <div class=\"colab-df-container\">\n",
              "      <div>\n",
              "<style scoped>\n",
              "    .dataframe tbody tr th:only-of-type {\n",
              "        vertical-align: middle;\n",
              "    }\n",
              "\n",
              "    .dataframe tbody tr th {\n",
              "        vertical-align: top;\n",
              "    }\n",
              "\n",
              "    .dataframe thead th {\n",
              "        text-align: right;\n",
              "    }\n",
              "</style>\n",
              "<table border=\"1\" class=\"dataframe\">\n",
              "  <thead>\n",
              "    <tr style=\"text-align: right;\">\n",
              "      <th></th>\n",
              "      <th>1913</th>\n",
              "      <th>1920</th>\n",
              "      <th>1930</th>\n",
              "      <th>1935</th>\n",
              "      <th>План ГОЭЛРО</th>\n",
              "      <th>Год выполнения плана ГОЭЛРО</th>\n",
              "    </tr>\n",
              "    <tr>\n",
              "      <th>Показатель</th>\n",
              "      <th></th>\n",
              "      <th></th>\n",
              "      <th></th>\n",
              "      <th></th>\n",
              "      <th></th>\n",
              "      <th></th>\n",
              "    </tr>\n",
              "  </thead>\n",
              "  <tbody>\n",
              "    <tr>\n",
              "      <th>Валовая продукция промышленности (1913-I)</th>\n",
              "      <td>1</td>\n",
              "      <td>14</td>\n",
              "      <td>25</td>\n",
              "      <td>58</td>\n",
              "      <td>1,8-2</td>\n",
              "      <td>1929-1930</td>\n",
              "    </tr>\n",
              "    <tr>\n",
              "      <th>Мощность районных электростанций (млн.квт)</th>\n",
              "      <td>02</td>\n",
              "      <td>25</td>\n",
              "      <td>14</td>\n",
              "      <td>41</td>\n",
              "      <td>175</td>\n",
              "      <td>1931</td>\n",
              "    </tr>\n",
              "    <tr>\n",
              "      <th>Производство электроэнергии (млрд. квт. ч.)</th>\n",
              "      <td>20</td>\n",
              "      <td>5</td>\n",
              "      <td>84</td>\n",
              "      <td>283</td>\n",
              "      <td>28</td>\n",
              "      <td>1931</td>\n",
              "    </tr>\n",
              "    <tr>\n",
              "      <th>Уголь (млн. т.)</th>\n",
              "      <td>292</td>\n",
              "      <td>87</td>\n",
              "      <td>478</td>\n",
              "      <td>1098</td>\n",
              "      <td>623</td>\n",
              "      <td>1932</td>\n",
              "    </tr>\n",
              "    <tr>\n",
              "      <th>Нефть (млн. т.)</th>\n",
              "      <td>9,2[14]</td>\n",
              "      <td>39</td>\n",
              "      <td>185</td>\n",
              "      <td>252</td>\n",
              "      <td>164</td>\n",
              "      <td>1929-1930</td>\n",
              "    </tr>\n",
              "    <tr>\n",
              "      <th>Торф (млн. т.)</th>\n",
              "      <td>17</td>\n",
              "      <td>14</td>\n",
              "      <td>81</td>\n",
              "      <td>185</td>\n",
              "      <td>184</td>\n",
              "      <td>1934</td>\n",
              "    </tr>\n",
              "    <tr>\n",
              "      <th>Железная руда (млн. т.)</th>\n",
              "      <td>92</td>\n",
              "      <td>16</td>\n",
              "      <td>137</td>\n",
              "      <td>263</td>\n",
              "      <td>196</td>\n",
              "      <td>1934</td>\n",
              "    </tr>\n",
              "    <tr>\n",
              "      <th>Чугун (млн. т.)</th>\n",
              "      <td>42</td>\n",
              "      <td>12</td>\n",
              "      <td>50</td>\n",
              "      <td>125</td>\n",
              "      <td>92</td>\n",
              "      <td>1934</td>\n",
              "    </tr>\n",
              "    <tr>\n",
              "      <th>Сталь (млн. т.)</th>\n",
              "      <td>43</td>\n",
              "      <td>19</td>\n",
              "      <td>58</td>\n",
              "      <td>126</td>\n",
              "      <td>65</td>\n",
              "      <td>1933</td>\n",
              "    </tr>\n",
              "    <tr>\n",
              "      <th>Бумага (тыс. т.)</th>\n",
              "      <td>2692</td>\n",
              "      <td>303</td>\n",
              "      <td>4353</td>\n",
              "      <td>6488</td>\n",
              "      <td>6835</td>\n",
              "      <td>1936</td>\n",
              "    </tr>\n",
              "  </tbody>\n",
              "</table>\n",
              "</div>\n",
              "      <button class=\"colab-df-convert\" onclick=\"convertToInteractive('df-fafe5cf6-9ab7-4110-b3d3-fac22ac5c533')\"\n",
              "              title=\"Convert this dataframe to an interactive table.\"\n",
              "              style=\"display:none;\">\n",
              "        \n",
              "  <svg xmlns=\"http://www.w3.org/2000/svg\" height=\"24px\"viewBox=\"0 0 24 24\"\n",
              "       width=\"24px\">\n",
              "    <path d=\"M0 0h24v24H0V0z\" fill=\"none\"/>\n",
              "    <path d=\"M18.56 5.44l.94 2.06.94-2.06 2.06-.94-2.06-.94-.94-2.06-.94 2.06-2.06.94zm-11 1L8.5 8.5l.94-2.06 2.06-.94-2.06-.94L8.5 2.5l-.94 2.06-2.06.94zm10 10l.94 2.06.94-2.06 2.06-.94-2.06-.94-.94-2.06-.94 2.06-2.06.94z\"/><path d=\"M17.41 7.96l-1.37-1.37c-.4-.4-.92-.59-1.43-.59-.52 0-1.04.2-1.43.59L10.3 9.45l-7.72 7.72c-.78.78-.78 2.05 0 2.83L4 21.41c.39.39.9.59 1.41.59.51 0 1.02-.2 1.41-.59l7.78-7.78 2.81-2.81c.8-.78.8-2.07 0-2.86zM5.41 20L4 18.59l7.72-7.72 1.47 1.35L5.41 20z\"/>\n",
              "  </svg>\n",
              "      </button>\n",
              "      \n",
              "  <style>\n",
              "    .colab-df-container {\n",
              "      display:flex;\n",
              "      flex-wrap:wrap;\n",
              "      gap: 12px;\n",
              "    }\n",
              "\n",
              "    .colab-df-convert {\n",
              "      background-color: #E8F0FE;\n",
              "      border: none;\n",
              "      border-radius: 50%;\n",
              "      cursor: pointer;\n",
              "      display: none;\n",
              "      fill: #1967D2;\n",
              "      height: 32px;\n",
              "      padding: 0 0 0 0;\n",
              "      width: 32px;\n",
              "    }\n",
              "\n",
              "    .colab-df-convert:hover {\n",
              "      background-color: #E2EBFA;\n",
              "      box-shadow: 0px 1px 2px rgba(60, 64, 67, 0.3), 0px 1px 3px 1px rgba(60, 64, 67, 0.15);\n",
              "      fill: #174EA6;\n",
              "    }\n",
              "\n",
              "    [theme=dark] .colab-df-convert {\n",
              "      background-color: #3B4455;\n",
              "      fill: #D2E3FC;\n",
              "    }\n",
              "\n",
              "    [theme=dark] .colab-df-convert:hover {\n",
              "      background-color: #434B5C;\n",
              "      box-shadow: 0px 1px 3px 1px rgba(0, 0, 0, 0.15);\n",
              "      filter: drop-shadow(0px 1px 2px rgba(0, 0, 0, 0.3));\n",
              "      fill: #FFFFFF;\n",
              "    }\n",
              "  </style>\n",
              "\n",
              "      <script>\n",
              "        const buttonEl =\n",
              "          document.querySelector('#df-fafe5cf6-9ab7-4110-b3d3-fac22ac5c533 button.colab-df-convert');\n",
              "        buttonEl.style.display =\n",
              "          google.colab.kernel.accessAllowed ? 'block' : 'none';\n",
              "\n",
              "        async function convertToInteractive(key) {\n",
              "          const element = document.querySelector('#df-fafe5cf6-9ab7-4110-b3d3-fac22ac5c533');\n",
              "          const dataTable =\n",
              "            await google.colab.kernel.invokeFunction('convertToInteractive',\n",
              "                                                     [key], {});\n",
              "          if (!dataTable) return;\n",
              "\n",
              "          const docLinkHtml = 'Like what you see? Visit the ' +\n",
              "            '<a target=\"_blank\" href=https://colab.research.google.com/notebooks/data_table.ipynb>data table notebook</a>'\n",
              "            + ' to learn more about interactive tables.';\n",
              "          element.innerHTML = '';\n",
              "          dataTable['output_type'] = 'display_data';\n",
              "          await google.colab.output.renderOutput(dataTable, element);\n",
              "          const docLink = document.createElement('div');\n",
              "          docLink.innerHTML = docLinkHtml;\n",
              "          element.appendChild(docLink);\n",
              "        }\n",
              "      </script>\n",
              "    </div>\n",
              "  </div>\n",
              "  "
            ],
            "text/plain": [
              "                                                1913  1920  1930  1935  \\\n",
              "Показатель                                                               \n",
              "Валовая продукция промышленности (1913-I)          1    14    25    58   \n",
              "Мощность районных электростанций (млн.квт)        02    25    14    41   \n",
              "Производство электроэнергии (млрд. квт. ч.)       20     5    84   283   \n",
              "Уголь (млн. т.)                                  292    87   478  1098   \n",
              "Нефть (млн. т.)                              9,2[14]    39   185   252   \n",
              "Торф (млн. т.)                                    17    14    81   185   \n",
              "Железная руда (млн. т.)                           92    16   137   263   \n",
              "Чугун (млн. т.)                                   42    12    50   125   \n",
              "Сталь (млн. т.)                                   43    19    58   126   \n",
              "Бумага (тыс. т.)                                2692   303  4353  6488   \n",
              "\n",
              "                                            План ГОЭЛРО  \\\n",
              "Показатель                                                \n",
              "Валовая продукция промышленности (1913-I)         1,8-2   \n",
              "Мощность районных электростанций (млн.квт)          175   \n",
              "Производство электроэнергии (млрд. квт. ч.)          28   \n",
              "Уголь (млн. т.)                                     623   \n",
              "Нефть (млн. т.)                                     164   \n",
              "Торф (млн. т.)                                      184   \n",
              "Железная руда (млн. т.)                             196   \n",
              "Чугун (млн. т.)                                      92   \n",
              "Сталь (млн. т.)                                      65   \n",
              "Бумага (тыс. т.)                                   6835   \n",
              "\n",
              "                                            Год выполнения плана ГОЭЛРО  \n",
              "Показатель                                                               \n",
              "Валовая продукция промышленности (1913-I)                     1929-1930  \n",
              "Мощность районных электростанций (млн.квт)                         1931  \n",
              "Производство электроэнергии (млрд. квт. ч.)                        1931  \n",
              "Уголь (млн. т.)                                                    1932  \n",
              "Нефть (млн. т.)                                               1929-1930  \n",
              "Торф (млн. т.)                                                     1934  \n",
              "Железная руда (млн. т.)                                            1934  \n",
              "Чугун (млн. т.)                                                    1934  \n",
              "Сталь (млн. т.)                                                    1933  \n",
              "Бумага (тыс. т.)                                                   1936  "
            ]
          },
          "execution_count": 65,
          "metadata": {},
          "output_type": "execute_result"
        }
      ],
      "source": [
        "#WEB-SCRAPING\n",
        "#11. Считали таблицу данных по ссылке.\n",
        "url = \"https://ru.wikipedia.org/wiki/%D0%93%D0%9E%D0%AD%D0%9B%D0%A0%D0%9E\"\n",
        "id_table = 1\n",
        "df_power = pd.read_html(url, header = 0, index_col = 0)[id_table]\n",
        "df_power\n"
      ]
    },
    {
      "cell_type": "code",
      "execution_count": null,
      "metadata": {
        "colab": {
          "base_uri": "https://localhost:8080/",
          "height": 320
        },
        "id": "EecPwBIP0v2K",
        "outputId": "ae38492c-2e02-4107-8ab1-6da48493ea73"
      },
      "outputs": [
        {
          "data": {
            "image/png": "[encoded data removed]",
            "text/plain": [
              "<Figure size 1440x360 with 1 Axes>"
            ]
          },
          "metadata": {},
          "output_type": "display_data"
        }
      ],
      "source": [
        "#12. Подключили библиотеку для построения графиков, сделали выборку по столбцам и строке, построили график.\n",
        "import matplotlib.pyplot as plt\n",
        "temp = df_power.iloc[2,:4].astype('int').plot(marker='.', figsize=(20, 5), subplots = False)\n",
        "\n",
        "\n"
      ]
    },
    {
      "cell_type": "code",
      "execution_count": null,
      "metadata": {
        "colab": {
          "base_uri": "https://localhost:8080/"
        },
        "id": "zowpSwzXBo_4",
        "outputId": "7580c0bf-09b3-40d6-faad-519e6c0b3f9a"
      },
      "outputs": [
        {
          "data": {
            "text/plain": [
              "['1913', '1920', '1930', '1935']"
            ]
          },
          "execution_count": 79,
          "metadata": {},
          "output_type": "execute_result"
        }
      ],
      "source": [
        "#13. Перевели заголовки столбцов в строки, чтобы построить интерактивный график.\n",
        "ax = df_power.columns[0:4].values.tolist()\n",
        "ax"
      ]
    },
    {
      "cell_type": "code",
      "execution_count": null,
      "metadata": {
        "colab": {
          "background_save": true,
          "base_uri": "https://localhost:8080/",
          "height": 417
        },
        "id": "eOz5Yv3d_542",
        "outputId": "d7f112b2-d6ad-47fc-bb21-0ba6daf5c4cc"
      },
      "outputs": [
        {
          "ename": "NameError",
          "evalue": "ignored",
          "output_type": "error",
          "traceback": [
            "\u001b[0;31m---------------------------------------------------------------------------\u001b[0m",
            "\u001b[0;31mNameError\u001b[0m                                 Traceback (most recent call last)",
            "\u001b[0;32m<ipython-input-1-dc90644860f3>\u001b[0m in \u001b[0;36m<module>\u001b[0;34m()\u001b[0m\n\u001b[1;32m      6\u001b[0m \u001b[0;34m\u001b[0m\u001b[0m\n\u001b[1;32m      7\u001b[0m \u001b[0mp\u001b[0m \u001b[0;34m=\u001b[0m \u001b[0mfigure\u001b[0m\u001b[0;34m(\u001b[0m\u001b[0mplot_width\u001b[0m \u001b[0;34m=\u001b[0m \u001b[0;36m800\u001b[0m\u001b[0;34m,\u001b[0m \u001b[0mplot_height\u001b[0m \u001b[0;34m=\u001b[0m \u001b[0;36m400\u001b[0m\u001b[0;34m)\u001b[0m\u001b[0;34m\u001b[0m\u001b[0;34m\u001b[0m\u001b[0m\n\u001b[0;32m----> 8\u001b[0;31m \u001b[0mp\u001b[0m\u001b[0;34m.\u001b[0m\u001b[0mline\u001b[0m\u001b[0;34m(\u001b[0m\u001b[0max\u001b[0m\u001b[0;34m,\u001b[0m \u001b[0mdf_power\u001b[0m\u001b[0;34m.\u001b[0m\u001b[0miloc\u001b[0m\u001b[0;34m[\u001b[0m\u001b[0;36m2\u001b[0m\u001b[0;34m,\u001b[0m\u001b[0;34m:\u001b[0m\u001b[0;36m4\u001b[0m\u001b[0;34m]\u001b[0m\u001b[0;34m.\u001b[0m\u001b[0mastype\u001b[0m\u001b[0;34m(\u001b[0m\u001b[0;34m'int'\u001b[0m\u001b[0;34m)\u001b[0m\u001b[0;34m,\u001b[0m \u001b[0mline_width\u001b[0m \u001b[0;34m=\u001b[0m \u001b[0;36m2\u001b[0m\u001b[0;34m)\u001b[0m\u001b[0;34m\u001b[0m\u001b[0;34m\u001b[0m\u001b[0m\n\u001b[0m\u001b[1;32m      9\u001b[0m \u001b[0mshow\u001b[0m\u001b[0;34m(\u001b[0m\u001b[0mp\u001b[0m\u001b[0;34m)\u001b[0m\u001b[0;34m\u001b[0m\u001b[0;34m\u001b[0m\u001b[0m\n",
            "\u001b[0;31mNameError\u001b[0m: name 'ax' is not defined"
          ]
        }
      ],
      "source": [
        "#14. Подключили библиотеку для построения интерактивных графиков, построили график.\n",
        "from bokeh.plotting import figure, output_file, show\n",
        "from bokeh.io import output_notebook\n",
        "\n",
        "output_notebook()\n",
        "\n",
        "p = figure(plot_width = 800, plot_height = 400)\n",
        "p.line(ax, df_power.iloc[2,:4].astype('int'), line_width = 2)\n",
        "show(p)"
      ]
    }
  ],
  "metadata": {
    "colab": {
      "collapsed_sections": [],
      "name": "Лабораторная работа 3.ipynb",
      "provenance": [],
      "include_colab_link": true
    },
    "kernelspec": {
      "display_name": "Python 3",
      "name": "python3"
    },
    "language_info": {
      "name": "python"
    }
  },
  "nbformat": 4,
  "nbformat_minor": 0
}